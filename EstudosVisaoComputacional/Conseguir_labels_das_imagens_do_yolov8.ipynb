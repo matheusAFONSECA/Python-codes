{
  "nbformat": 4,
  "nbformat_minor": 0,
  "metadata": {
    "colab": {
      "provenance": []
    },
    "kernelspec": {
      "name": "python3",
      "display_name": "Python 3"
    },
    "language_info": {
      "name": "python"
    }
  },
  "cells": [
    {
      "cell_type": "markdown",
      "source": [
        "Este colab tem como finalidade conseguir retirar os labels de imagens utilizando pesos de um modelo treinado do YoloV8"
      ],
      "metadata": {
        "id": "Z2DWTZjhou9C"
      }
    },
    {
      "cell_type": "code",
      "source": [
        "## connecting to the google drive\n",
        "\n",
        "from google.colab import drive\n",
        "drive.mount('/content/drive')"
      ],
      "metadata": {
        "colab": {
          "base_uri": "https://localhost:8080/"
        },
        "id": "7pJHy5NzpCUP",
        "outputId": "0d6c2a40-6947-4b94-e0a1-2cf32c0ffdf7"
      },
      "execution_count": 1,
      "outputs": [
        {
          "output_type": "stream",
          "name": "stdout",
          "text": [
            "Mounted at /content/drive\n"
          ]
        }
      ]
    },
    {
      "cell_type": "code",
      "source": [
        "# Pip install (recommended)\n",
        "!pip install ultralytics"
      ],
      "metadata": {
        "colab": {
          "base_uri": "https://localhost:8080/"
        },
        "id": "kRAMuCbEn2j3",
        "outputId": "bdbd6437-66f6-4583-a90a-c6ecfd69a5a7"
      },
      "execution_count": 2,
      "outputs": [
        {
          "output_type": "stream",
          "name": "stdout",
          "text": [
            "Looking in indexes: https://pypi.org/simple, https://us-python.pkg.dev/colab-wheels/public/simple/\n",
            "Collecting ultralytics\n",
            "  Downloading ultralytics-8.0.61-py3-none-any.whl (490 kB)\n",
            "\u001b[2K     \u001b[90m━━━━━━━━━━━━━━━━━━━━━━━━━━━━━━━━━━━━━━\u001b[0m \u001b[32m490.6/490.6 KB\u001b[0m \u001b[31m17.0 MB/s\u001b[0m eta \u001b[36m0:00:00\u001b[0m\n",
            "\u001b[?25hRequirement already satisfied: requests>=2.23.0 in /usr/local/lib/python3.9/dist-packages (from ultralytics) (2.27.1)\n",
            "Requirement already satisfied: psutil in /usr/local/lib/python3.9/dist-packages (from ultralytics) (5.9.4)\n",
            "Requirement already satisfied: torchvision>=0.8.1 in /usr/local/lib/python3.9/dist-packages (from ultralytics) (0.15.1+cu118)\n",
            "Requirement already satisfied: opencv-python>=4.6.0 in /usr/local/lib/python3.9/dist-packages (from ultralytics) (4.7.0.72)\n",
            "Requirement already satisfied: Pillow>=7.1.2 in /usr/local/lib/python3.9/dist-packages (from ultralytics) (8.4.0)\n",
            "Requirement already satisfied: torch>=1.7.0 in /usr/local/lib/python3.9/dist-packages (from ultralytics) (2.0.0+cu118)\n",
            "Requirement already satisfied: tqdm>=4.64.0 in /usr/local/lib/python3.9/dist-packages (from ultralytics) (4.65.0)\n",
            "Requirement already satisfied: matplotlib>=3.2.2 in /usr/local/lib/python3.9/dist-packages (from ultralytics) (3.7.1)\n",
            "Requirement already satisfied: seaborn>=0.11.0 in /usr/local/lib/python3.9/dist-packages (from ultralytics) (0.12.2)\n",
            "Requirement already satisfied: pandas>=1.1.4 in /usr/local/lib/python3.9/dist-packages (from ultralytics) (1.4.4)\n",
            "Collecting thop>=0.1.1\n",
            "  Downloading thop-0.1.1.post2209072238-py3-none-any.whl (15 kB)\n",
            "Collecting sentry-sdk\n",
            "  Downloading sentry_sdk-1.19.0-py2.py3-none-any.whl (199 kB)\n",
            "\u001b[2K     \u001b[90m━━━━━━━━━━━━━━━━━━━━━━━━━━━━━━━━━━━━━━\u001b[0m \u001b[32m199.2/199.2 KB\u001b[0m \u001b[31m16.9 MB/s\u001b[0m eta \u001b[36m0:00:00\u001b[0m\n",
            "\u001b[?25hRequirement already satisfied: scipy>=1.4.1 in /usr/local/lib/python3.9/dist-packages (from ultralytics) (1.10.1)\n",
            "Requirement already satisfied: PyYAML>=5.3.1 in /usr/local/lib/python3.9/dist-packages (from ultralytics) (6.0)\n",
            "Requirement already satisfied: numpy>=1.21.6 in /usr/local/lib/python3.9/dist-packages (from ultralytics) (1.22.4)\n",
            "Requirement already satisfied: pyparsing>=2.3.1 in /usr/local/lib/python3.9/dist-packages (from matplotlib>=3.2.2->ultralytics) (3.0.9)\n",
            "Requirement already satisfied: fonttools>=4.22.0 in /usr/local/lib/python3.9/dist-packages (from matplotlib>=3.2.2->ultralytics) (4.39.3)\n",
            "Requirement already satisfied: packaging>=20.0 in /usr/local/lib/python3.9/dist-packages (from matplotlib>=3.2.2->ultralytics) (23.0)\n",
            "Requirement already satisfied: importlib-resources>=3.2.0 in /usr/local/lib/python3.9/dist-packages (from matplotlib>=3.2.2->ultralytics) (5.12.0)\n",
            "Requirement already satisfied: contourpy>=1.0.1 in /usr/local/lib/python3.9/dist-packages (from matplotlib>=3.2.2->ultralytics) (1.0.7)\n",
            "Requirement already satisfied: kiwisolver>=1.0.1 in /usr/local/lib/python3.9/dist-packages (from matplotlib>=3.2.2->ultralytics) (1.4.4)\n",
            "Requirement already satisfied: python-dateutil>=2.7 in /usr/local/lib/python3.9/dist-packages (from matplotlib>=3.2.2->ultralytics) (2.8.2)\n",
            "Requirement already satisfied: cycler>=0.10 in /usr/local/lib/python3.9/dist-packages (from matplotlib>=3.2.2->ultralytics) (0.11.0)\n",
            "Requirement already satisfied: pytz>=2020.1 in /usr/local/lib/python3.9/dist-packages (from pandas>=1.1.4->ultralytics) (2022.7.1)\n",
            "Requirement already satisfied: charset-normalizer~=2.0.0 in /usr/local/lib/python3.9/dist-packages (from requests>=2.23.0->ultralytics) (2.0.12)\n",
            "Requirement already satisfied: idna<4,>=2.5 in /usr/local/lib/python3.9/dist-packages (from requests>=2.23.0->ultralytics) (3.4)\n",
            "Requirement already satisfied: urllib3<1.27,>=1.21.1 in /usr/local/lib/python3.9/dist-packages (from requests>=2.23.0->ultralytics) (1.26.15)\n",
            "Requirement already satisfied: certifi>=2017.4.17 in /usr/local/lib/python3.9/dist-packages (from requests>=2.23.0->ultralytics) (2022.12.7)\n",
            "Requirement already satisfied: typing-extensions in /usr/local/lib/python3.9/dist-packages (from torch>=1.7.0->ultralytics) (4.5.0)\n",
            "Requirement already satisfied: jinja2 in /usr/local/lib/python3.9/dist-packages (from torch>=1.7.0->ultralytics) (3.1.2)\n",
            "Requirement already satisfied: sympy in /usr/local/lib/python3.9/dist-packages (from torch>=1.7.0->ultralytics) (1.11.1)\n",
            "Requirement already satisfied: networkx in /usr/local/lib/python3.9/dist-packages (from torch>=1.7.0->ultralytics) (3.0)\n",
            "Requirement already satisfied: triton==2.0.0 in /usr/local/lib/python3.9/dist-packages (from torch>=1.7.0->ultralytics) (2.0.0)\n",
            "Requirement already satisfied: filelock in /usr/local/lib/python3.9/dist-packages (from torch>=1.7.0->ultralytics) (3.10.7)\n",
            "Requirement already satisfied: cmake in /usr/local/lib/python3.9/dist-packages (from triton==2.0.0->torch>=1.7.0->ultralytics) (3.25.2)\n",
            "Requirement already satisfied: lit in /usr/local/lib/python3.9/dist-packages (from triton==2.0.0->torch>=1.7.0->ultralytics) (16.0.0)\n",
            "Requirement already satisfied: zipp>=3.1.0 in /usr/local/lib/python3.9/dist-packages (from importlib-resources>=3.2.0->matplotlib>=3.2.2->ultralytics) (3.15.0)\n",
            "Requirement already satisfied: six>=1.5 in /usr/local/lib/python3.9/dist-packages (from python-dateutil>=2.7->matplotlib>=3.2.2->ultralytics) (1.16.0)\n",
            "Requirement already satisfied: MarkupSafe>=2.0 in /usr/local/lib/python3.9/dist-packages (from jinja2->torch>=1.7.0->ultralytics) (2.1.2)\n",
            "Requirement already satisfied: mpmath>=0.19 in /usr/local/lib/python3.9/dist-packages (from sympy->torch>=1.7.0->ultralytics) (1.3.0)\n",
            "Installing collected packages: sentry-sdk, thop, ultralytics\n",
            "Successfully installed sentry-sdk-1.19.0 thop-0.1.1.post2209072238 ultralytics-8.0.61\n"
          ]
        }
      ]
    },
    {
      "cell_type": "code",
      "source": [
        "## importing required libraries\n",
        "import os\n",
        "import shutil\n",
        "import random\n",
        "\n",
        "!pip install tqdm --upgrade\n",
        "from tqdm.notebook import tqdm"
      ],
      "metadata": {
        "colab": {
          "base_uri": "https://localhost:8080/"
        },
        "id": "_4gtN7QqpJMh",
        "outputId": "60a27a88-efcb-40c7-fe5a-cd8d5d9547e3"
      },
      "execution_count": 3,
      "outputs": [
        {
          "output_type": "stream",
          "name": "stdout",
          "text": [
            "Looking in indexes: https://pypi.org/simple, https://us-python.pkg.dev/colab-wheels/public/simple/\n",
            "Requirement already satisfied: tqdm in /usr/local/lib/python3.9/dist-packages (4.65.0)\n"
          ]
        }
      ]
    },
    {
      "cell_type": "code",
      "source": [
        "# para vermos qual o processador está sendo usado\n",
        "!nvidia-smi"
      ],
      "metadata": {
        "colab": {
          "base_uri": "https://localhost:8080/"
        },
        "id": "PI2kZ6z_pMnS",
        "outputId": "294b4a68-6b04-437e-93f1-6ac1c6094b60"
      },
      "execution_count": 4,
      "outputs": [
        {
          "output_type": "stream",
          "name": "stdout",
          "text": [
            "NVIDIA-SMI has failed because it couldn't communicate with the NVIDIA driver. Make sure that the latest NVIDIA driver is installed and running.\n",
            "\n"
          ]
        }
      ]
    },
    {
      "cell_type": "code",
      "source": [
        "import ultralytics\n",
        "ultralytics.checks()"
      ],
      "metadata": {
        "colab": {
          "base_uri": "https://localhost:8080/"
        },
        "id": "Yt9DnwpMpVry",
        "outputId": "0c6b3e1e-fb16-48e3-8a9f-c22b85f74703"
      },
      "execution_count": 5,
      "outputs": [
        {
          "output_type": "stream",
          "name": "stderr",
          "text": [
            "Ultralytics YOLOv8.0.61 🚀 Python-3.9.16 torch-2.0.0+cu118 CPU\n",
            "Setup complete ✅ (2 CPUs, 12.7 GB RAM, 26.2/107.7 GB disk)\n"
          ]
        }
      ]
    },
    {
      "cell_type": "code",
      "source": [
        "from IPython import display\n",
        "display.clear_output()"
      ],
      "metadata": {
        "id": "_QqZYJZrpX6C"
      },
      "execution_count": 6,
      "outputs": []
    },
    {
      "cell_type": "code",
      "source": [
        "from ultralytics import YOLO\n",
        "\n",
        "from IPython.display import display, Image"
      ],
      "metadata": {
        "id": "n0_qe8W1pa8R"
      },
      "execution_count": 7,
      "outputs": []
    },
    {
      "cell_type": "code",
      "source": [
        "%cd /content/drive/MyDrive/yolov8"
      ],
      "metadata": {
        "colab": {
          "base_uri": "https://localhost:8080/"
        },
        "id": "pF9oM-egpcB1",
        "outputId": "a40ab1ef-e685-412a-e9d0-0eb38d469be3"
      },
      "execution_count": 8,
      "outputs": [
        {
          "output_type": "stream",
          "name": "stdout",
          "text": [
            "/content/drive/MyDrive/yolov8\n"
          ]
        }
      ]
    },
    {
      "cell_type": "code",
      "source": [
        "!ls"
      ],
      "metadata": {
        "colab": {
          "base_uri": "https://localhost:8080/"
        },
        "id": "DAtH-vySphER",
        "outputId": "c189b9d5-eb61-4f9c-fc0e-3e958e646f26"
      },
      "execution_count": 9,
      "outputs": [
        {
          "output_type": "stream",
          "name": "stdout",
          "text": [
            "Cópia_de_yolov8_custom_training.ipynb  data.yaml  Predict.py  yolov8n.pt\n",
            "data\t\t\t\t       output\t  runs\t      yolov8s.pt\n"
          ]
        }
      ]
    },
    {
      "cell_type": "code",
      "execution_count": 10,
      "metadata": {
        "id": "RhwViHP6nZ4A"
      },
      "outputs": [],
      "source": [
        "# definindo o modelo(pesos) utilizados para a predição de imagens\n",
        "model = YOLO(\"runs/detect/train/weights/best.pt\")"
      ]
    },
    {
      "cell_type": "code",
      "source": [
        "# codigo para passar por uma imagem e criar os labels\n",
        "model.predict(\"_caminho_do_arquivo_\", save = True, save_txt = True)"
      ],
      "metadata": {
        "colab": {
          "base_uri": "https://localhost:8080/"
        },
        "id": "qy7djGeSntIH",
        "outputId": "f6651900-1318-4328-ee13-b9a2ed8ec7b1"
      },
      "execution_count": 11,
      "outputs": [
        {
          "output_type": "stream",
          "name": "stderr",
          "text": [
            "\n",
            "image 1/1 /content/drive/MyDrive/yolov8/data/test/images/0801961485534636_jpg.rf.96cbc82ce51fbb01cf28f4c7817e26a9.jpg: 224x224 1 0, 2 1s, 378.7ms\n",
            "Speed: 0.7ms preprocess, 378.7ms inference, 25.9ms postprocess per image at shape (1, 3, 224, 224)\n",
            "Results saved to \u001b[1mruns/detect/predict6\u001b[0m\n",
            "1 label saved to runs/detect/predict6/labels\n"
          ]
        },
        {
          "output_type": "execute_result",
          "data": {
            "text/plain": [
              "[ultralytics.yolo.engine.results.Results object with attributes:\n",
              " \n",
              " _keys: ('boxes', 'masks', 'probs')\n",
              " boxes: ultralytics.yolo.engine.results.Boxes object\n",
              " keys: ['boxes']\n",
              " masks: None\n",
              " names: {0: '0', 1: '1'}\n",
              " orig_img: array([[[ 25,  26,  22],\n",
              "         [ 21,  25,  20],\n",
              "         [ 21,  25,  20],\n",
              "         ...,\n",
              "         [125, 122, 117],\n",
              "         [120, 120, 114],\n",
              "         [118, 118, 112]],\n",
              " \n",
              "        [[ 24,  25,  21],\n",
              "         [ 20,  24,  19],\n",
              "         [ 22,  26,  21],\n",
              "         ...,\n",
              "         [126, 123, 118],\n",
              "         [121, 121, 115],\n",
              "         [120, 120, 114]],\n",
              " \n",
              "        [[ 23,  24,  20],\n",
              "         [ 20,  24,  19],\n",
              "         [ 25,  29,  24],\n",
              "         ...,\n",
              "         [127, 124, 119],\n",
              "         [125, 122, 117],\n",
              "         [125, 122, 117]],\n",
              " \n",
              "        ...,\n",
              " \n",
              "        [[ 37,  37,  37],\n",
              "         [ 37,  37,  37],\n",
              "         [ 37,  37,  37],\n",
              "         ...,\n",
              "         [ 26,  27,  53],\n",
              "         [ 25,  26,  54],\n",
              "         [ 25,  25,  55]],\n",
              " \n",
              "        [[ 37,  37,  37],\n",
              "         [ 37,  37,  37],\n",
              "         [ 37,  37,  37],\n",
              "         ...,\n",
              "         [ 27,  28,  54],\n",
              "         [ 24,  27,  55],\n",
              "         [ 23,  26,  54]],\n",
              " \n",
              "        [[ 37,  37,  37],\n",
              "         [ 37,  37,  37],\n",
              "         [ 37,  37,  37],\n",
              "         ...,\n",
              "         [ 27,  28,  54],\n",
              "         [ 24,  27,  55],\n",
              "         [ 23,  26,  54]]], dtype=uint8)\n",
              " orig_shape: (416, 416)\n",
              " path: '/content/drive/MyDrive/yolov8/data/test/images/0801961485534636_jpg.rf.96cbc82ce51fbb01cf28f4c7817e26a9.jpg'\n",
              " probs: None\n",
              " speed: {'preprocess': 0.7414817810058594, 'inference': 378.74746322631836, 'postprocess': 25.89273452758789}]"
            ]
          },
          "metadata": {},
          "execution_count": 11
        }
      ]
    },
    {
      "cell_type": "code",
      "source": [
        "# codigo para passar por uma pasta de imagens e criar os labels\n",
        "import os\n",
        "\n",
        "pasta = \"/content/drive/MyDrive/yolov8/data/test/images\"  # substitua pelo caminho real da pasta\n",
        "\n",
        "for nome_arquivo in os.listdir(pasta):\n",
        "  model.predict(pasta + \"/\" + nome_arquivo, save = True, save_txt = True)"
      ],
      "metadata": {
        "colab": {
          "base_uri": "https://localhost:8080/"
        },
        "id": "XLZDJN81qhly",
        "outputId": "6d632207-080d-48fe-8393-ef40867bc2e7"
      },
      "execution_count": 14,
      "outputs": [
        {
          "output_type": "stream",
          "name": "stderr",
          "text": [
            "\n",
            "image 1/1 /content/drive/MyDrive/yolov8/data/test/images/Cars254_png_jpg.rf.e5df4c16fe42a1dbb83754437a075d85.jpg: 224x224 1 0, 2 1s, 167.7ms\n",
            "Speed: 1.8ms preprocess, 167.7ms inference, 2.1ms postprocess per image at shape (1, 3, 224, 224)\n",
            "Results saved to \u001b[1mruns/detect/predict6\u001b[0m\n",
            "1 label saved to runs/detect/predict6/labels\n",
            "\n",
            "image 1/1 /content/drive/MyDrive/yolov8/data/test/images/4ee3f0e9a2fb20a9_jpg.rf.639ed1a8c4d5aaee8274c4caf8e23897.jpg: 224x224 1 0, 1 1, 136.9ms\n",
            "Speed: 0.3ms preprocess, 136.9ms inference, 1.3ms postprocess per image at shape (1, 3, 224, 224)\n",
            "Results saved to \u001b[1mruns/detect/predict6\u001b[0m\n",
            "2 labels saved to runs/detect/predict6/labels\n",
            "\n",
            "image 1/1 /content/drive/MyDrive/yolov8/data/test/images/3ed000628c6a0587_jpg.rf.41ed52608ae16b7c458dfc77595ac148.jpg: 224x224 1 0, 2 1s, 149.8ms\n",
            "Speed: 0.5ms preprocess, 149.8ms inference, 1.3ms postprocess per image at shape (1, 3, 224, 224)\n",
            "Results saved to \u001b[1mruns/detect/predict6\u001b[0m\n",
            "3 labels saved to runs/detect/predict6/labels\n",
            "\n",
            "image 1/1 /content/drive/MyDrive/yolov8/data/test/images/Cars405_png_jpg.rf.dc176c10a55e8be7b0d5b3dad2d0cb56.jpg: 128x224 1 0, 1 1, 106.9ms\n",
            "Speed: 0.3ms preprocess, 106.9ms inference, 1.2ms postprocess per image at shape (1, 3, 224, 224)\n",
            "Results saved to \u001b[1mruns/detect/predict6\u001b[0m\n",
            "4 labels saved to runs/detect/predict6/labels\n",
            "\n",
            "image 1/1 /content/drive/MyDrive/yolov8/data/test/images/Cars403_png_jpg.rf.d6b1dbd8a9d0fc8bf14bde18af7e0b45.jpg: 192x224 2 0s, 3 1s, 140.0ms\n",
            "Speed: 0.4ms preprocess, 140.0ms inference, 1.6ms postprocess per image at shape (1, 3, 224, 224)\n",
            "Results saved to \u001b[1mruns/detect/predict6\u001b[0m\n",
            "5 labels saved to runs/detect/predict6/labels\n",
            "\n",
            "image 1/1 /content/drive/MyDrive/yolov8/data/test/images/Cars415_png_jpg.rf.e968185fdfe9a2f0aa6b6a8aff8bc613.jpg: 192x224 1 0, 2 1s, 166.3ms\n",
            "Speed: 0.3ms preprocess, 166.3ms inference, 1.2ms postprocess per image at shape (1, 3, 224, 224)\n",
            "Results saved to \u001b[1mruns/detect/predict6\u001b[0m\n",
            "6 labels saved to runs/detect/predict6/labels\n",
            "\n",
            "image 1/1 /content/drive/MyDrive/yolov8/data/test/images/575d96d014e4fbab_jpg.rf.955f04732b10b795fea4712409d79bdb.jpg: 224x224 2 0s, 1 1, 136.4ms\n",
            "Speed: 0.4ms preprocess, 136.4ms inference, 1.3ms postprocess per image at shape (1, 3, 224, 224)\n",
            "Results saved to \u001b[1mruns/detect/predict6\u001b[0m\n",
            "7 labels saved to runs/detect/predict6/labels\n",
            "\n",
            "image 1/1 /content/drive/MyDrive/yolov8/data/test/images/Cars65_png_jpg.rf.891c0592e4ebb9d4b4727bfcf9183ea3.jpg: 192x224 1 0, 1 1, 92.6ms\n",
            "Speed: 0.3ms preprocess, 92.6ms inference, 0.9ms postprocess per image at shape (1, 3, 224, 224)\n",
            "Results saved to \u001b[1mruns/detect/predict6\u001b[0m\n",
            "8 labels saved to runs/detect/predict6/labels\n",
            "\n",
            "image 1/1 /content/drive/MyDrive/yolov8/data/test/images/87b4f1202cd06440_jpg.rf.fcb98bee373d45e4ea5a85ef4d61c0e8.jpg: 224x224 2 0s, 3 1s, 88.1ms\n",
            "Speed: 0.3ms preprocess, 88.1ms inference, 0.8ms postprocess per image at shape (1, 3, 224, 224)\n",
            "Results saved to \u001b[1mruns/detect/predict6\u001b[0m\n",
            "9 labels saved to runs/detect/predict6/labels\n",
            "\n",
            "image 1/1 /content/drive/MyDrive/yolov8/data/test/images/Cars174_png_jpg.rf.e74b4a82db8e0e41ec01a68b54fe3f49.jpg: 128x224 1 0, 3 1s, 54.3ms\n",
            "Speed: 0.2ms preprocess, 54.3ms inference, 0.8ms postprocess per image at shape (1, 3, 224, 224)\n",
            "Results saved to \u001b[1mruns/detect/predict6\u001b[0m\n",
            "10 labels saved to runs/detect/predict6/labels\n",
            "\n",
            "image 1/1 /content/drive/MyDrive/yolov8/data/test/images/Cars261_png_jpg.rf.30f14b9e8327d19717c0d59a04836799.jpg: 192x224 3 0s, 73.5ms\n",
            "Speed: 0.3ms preprocess, 73.5ms inference, 1.1ms postprocess per image at shape (1, 3, 224, 224)\n",
            "Results saved to \u001b[1mruns/detect/predict6\u001b[0m\n",
            "11 labels saved to runs/detect/predict6/labels\n",
            "\n",
            "image 1/1 /content/drive/MyDrive/yolov8/data/test/images/5021041c726b6ee4_jpg.rf.816c37af0a9a4b04c924661c704db4c4.jpg: 224x224 1 0, 1 1, 90.7ms\n",
            "Speed: 0.3ms preprocess, 90.7ms inference, 0.9ms postprocess per image at shape (1, 3, 224, 224)\n",
            "Results saved to \u001b[1mruns/detect/predict6\u001b[0m\n",
            "12 labels saved to runs/detect/predict6/labels\n",
            "\n",
            "image 1/1 /content/drive/MyDrive/yolov8/data/test/images/80e02a518ffe4cb2_jpg.rf.6c0a947f582502429cd3dff12f14de63.jpg: 224x224 1 0, 1 1, 83.7ms\n",
            "Speed: 0.3ms preprocess, 83.7ms inference, 0.8ms postprocess per image at shape (1, 3, 224, 224)\n",
            "Results saved to \u001b[1mruns/detect/predict6\u001b[0m\n",
            "13 labels saved to runs/detect/predict6/labels\n",
            "\n",
            "image 1/1 /content/drive/MyDrive/yolov8/data/test/images/7f56adf4b9306ac9_jpg.rf.cdaeed62528428816c0ead9036befe0d.jpg: 224x224 1 0, 1 1, 88.6ms\n",
            "Speed: 0.3ms preprocess, 88.6ms inference, 0.8ms postprocess per image at shape (1, 3, 224, 224)\n",
            "Results saved to \u001b[1mruns/detect/predict6\u001b[0m\n",
            "14 labels saved to runs/detect/predict6/labels\n",
            "\n",
            "image 1/1 /content/drive/MyDrive/yolov8/data/test/images/46a7991da6461831_jpg.rf.25eebbc8bc1679d8f12e2783bc084817.jpg: 224x224 1 0, 1 1, 96.8ms\n",
            "Speed: 1.0ms preprocess, 96.8ms inference, 0.8ms postprocess per image at shape (1, 3, 224, 224)\n",
            "Results saved to \u001b[1mruns/detect/predict6\u001b[0m\n",
            "15 labels saved to runs/detect/predict6/labels\n",
            "\n",
            "image 1/1 /content/drive/MyDrive/yolov8/data/test/images/Cars429_png_jpg.rf.bf53132e062595905117d92fd4e98629.jpg: 224x192 1 0, 1 1, 90.3ms\n",
            "Speed: 0.3ms preprocess, 90.3ms inference, 1.0ms postprocess per image at shape (1, 3, 224, 224)\n",
            "Results saved to \u001b[1mruns/detect/predict6\u001b[0m\n",
            "16 labels saved to runs/detect/predict6/labels\n",
            "\n",
            "image 1/1 /content/drive/MyDrive/yolov8/data/test/images/86c92b0402fec141_jpg.rf.a109c393f1e26f210fe30eaa175c0cb5.jpg: 224x224 2 0s, 5 1s, 91.4ms\n",
            "Speed: 0.3ms preprocess, 91.4ms inference, 0.8ms postprocess per image at shape (1, 3, 224, 224)\n",
            "Results saved to \u001b[1mruns/detect/predict6\u001b[0m\n",
            "17 labels saved to runs/detect/predict6/labels\n",
            "\n",
            "image 1/1 /content/drive/MyDrive/yolov8/data/test/images/0c756c9366a8cb10_jpg.rf.6920d0a185c793a7f25ca284ebd1f9ad.jpg: 224x224 1 0, 1 1, 84.3ms\n",
            "Speed: 0.3ms preprocess, 84.3ms inference, 0.9ms postprocess per image at shape (1, 3, 224, 224)\n",
            "Results saved to \u001b[1mruns/detect/predict6\u001b[0m\n",
            "18 labels saved to runs/detect/predict6/labels\n",
            "\n",
            "image 1/1 /content/drive/MyDrive/yolov8/data/test/images/182268e1f8c6525f_jpg.rf.ab9a5575c280428b8ad2ed1cfc049628.jpg: 224x224 1 0, 2 1s, 80.0ms\n",
            "Speed: 0.3ms preprocess, 80.0ms inference, 0.8ms postprocess per image at shape (1, 3, 224, 224)\n",
            "Results saved to \u001b[1mruns/detect/predict6\u001b[0m\n",
            "19 labels saved to runs/detect/predict6/labels\n",
            "\n",
            "image 1/1 /content/drive/MyDrive/yolov8/data/test/images/4b3aba5dfb7a0492_jpg.rf.cfb4b9d73536bfccf72887a5d12a0357.jpg: 224x224 1 0, 1 1, 88.9ms\n",
            "Speed: 0.3ms preprocess, 88.9ms inference, 0.8ms postprocess per image at shape (1, 3, 224, 224)\n",
            "Results saved to \u001b[1mruns/detect/predict6\u001b[0m\n",
            "20 labels saved to runs/detect/predict6/labels\n",
            "\n",
            "image 1/1 /content/drive/MyDrive/yolov8/data/test/images/485e5f37dd13ffab_jpg.rf.81ea4bb33abb2617a559dcf5a5931334.jpg: 224x224 2 0s, 3 1s, 83.4ms\n",
            "Speed: 0.3ms preprocess, 83.4ms inference, 0.8ms postprocess per image at shape (1, 3, 224, 224)\n",
            "Results saved to \u001b[1mruns/detect/predict6\u001b[0m\n",
            "21 labels saved to runs/detect/predict6/labels\n",
            "\n",
            "image 1/1 /content/drive/MyDrive/yolov8/data/test/images/460753acbd6e6dad_jpg.rf.9546e2bc405bba83c333623af7a17fcb.jpg: 224x224 1 0, 2 1s, 82.7ms\n",
            "Speed: 0.3ms preprocess, 82.7ms inference, 0.9ms postprocess per image at shape (1, 3, 224, 224)\n",
            "Results saved to \u001b[1mruns/detect/predict6\u001b[0m\n",
            "22 labels saved to runs/detect/predict6/labels\n",
            "\n",
            "image 1/1 /content/drive/MyDrive/yolov8/data/test/images/Cars302_png_jpg.rf.035e2aef3b80db0320a412ede32e920b.jpg: 128x224 2 0s, 56.8ms\n",
            "Speed: 0.3ms preprocess, 56.8ms inference, 0.8ms postprocess per image at shape (1, 3, 224, 224)\n",
            "Results saved to \u001b[1mruns/detect/predict6\u001b[0m\n",
            "23 labels saved to runs/detect/predict6/labels\n",
            "\n",
            "image 1/1 /content/drive/MyDrive/yolov8/data/test/images/Cars408_png_jpg.rf.4aa3ae045337b3ed79c71ac68ae8f347.jpg: 160x224 2 1s, 70.7ms\n",
            "Speed: 0.3ms preprocess, 70.7ms inference, 0.9ms postprocess per image at shape (1, 3, 224, 224)\n",
            "Results saved to \u001b[1mruns/detect/predict6\u001b[0m\n",
            "24 labels saved to runs/detect/predict6/labels\n",
            "\n",
            "image 1/1 /content/drive/MyDrive/yolov8/data/test/images/70e7b5173fe1e289_jpg.rf.35c6663bc64f11e3c203f0402d09a03d.jpg: 224x224 1 0, 1 1, 82.8ms\n",
            "Speed: 0.5ms preprocess, 82.8ms inference, 0.8ms postprocess per image at shape (1, 3, 224, 224)\n",
            "Results saved to \u001b[1mruns/detect/predict6\u001b[0m\n",
            "25 labels saved to runs/detect/predict6/labels\n",
            "\n",
            "image 1/1 /content/drive/MyDrive/yolov8/data/test/images/4ff8bebd6d6a0361_jpg.rf.ae00859319217b8764991a89674bb353.jpg: 224x224 1 0, 2 1s, 95.4ms\n",
            "Speed: 0.4ms preprocess, 95.4ms inference, 1.0ms postprocess per image at shape (1, 3, 224, 224)\n",
            "Results saved to \u001b[1mruns/detect/predict6\u001b[0m\n",
            "26 labels saved to runs/detect/predict6/labels\n",
            "\n",
            "image 1/1 /content/drive/MyDrive/yolov8/data/test/images/Cars407_png_jpg.rf.2b846d771f2dee7fda1bf7733599c602.jpg: 160x224 1 0, 1 1, 73.3ms\n",
            "Speed: 0.4ms preprocess, 73.3ms inference, 1.0ms postprocess per image at shape (1, 3, 224, 224)\n",
            "Results saved to \u001b[1mruns/detect/predict6\u001b[0m\n",
            "27 labels saved to runs/detect/predict6/labels\n",
            "\n",
            "image 1/1 /content/drive/MyDrive/yolov8/data/test/images/64de505bd2bac82b_jpg.rf.78d6a4fe7f6576c3f421686200d5b37a.jpg: 224x224 1 0, 1 1, 89.9ms\n",
            "Speed: 0.5ms preprocess, 89.9ms inference, 1.3ms postprocess per image at shape (1, 3, 224, 224)\n",
            "Results saved to \u001b[1mruns/detect/predict6\u001b[0m\n",
            "28 labels saved to runs/detect/predict6/labels\n",
            "\n",
            "image 1/1 /content/drive/MyDrive/yolov8/data/test/images/Cars87_png_jpg.rf.e27582debf0980bfe0a49019ef962dcd.jpg: 192x224 4 0s, 2 1s, 83.0ms\n",
            "Speed: 0.3ms preprocess, 83.0ms inference, 1.0ms postprocess per image at shape (1, 3, 224, 224)\n",
            "Results saved to \u001b[1mruns/detect/predict6\u001b[0m\n",
            "29 labels saved to runs/detect/predict6/labels\n",
            "\n",
            "image 1/1 /content/drive/MyDrive/yolov8/data/test/images/Cars305_png_jpg.rf.b83cf6f060920b213c0230aa277f54f8.jpg: 160x224 1 0, 2 1s, 73.3ms\n",
            "Speed: 0.4ms preprocess, 73.3ms inference, 1.0ms postprocess per image at shape (1, 3, 224, 224)\n",
            "Results saved to \u001b[1mruns/detect/predict6\u001b[0m\n",
            "30 labels saved to runs/detect/predict6/labels\n",
            "\n",
            "image 1/1 /content/drive/MyDrive/yolov8/data/test/images/0801961485534636_jpg.rf.96cbc82ce51fbb01cf28f4c7817e26a9.jpg: 224x224 1 0, 2 1s, 90.9ms\n",
            "Speed: 0.4ms preprocess, 90.9ms inference, 1.0ms postprocess per image at shape (1, 3, 224, 224)\n",
            "Results saved to \u001b[1mruns/detect/predict6\u001b[0m\n",
            "31 labels saved to runs/detect/predict6/labels\n",
            "\n",
            "image 1/1 /content/drive/MyDrive/yolov8/data/test/images/27798906120ea394_jpg.rf.043604e4ffae85e73b53962227f5aa9b.jpg: 224x224 1 0, 5 1s, 87.2ms\n",
            "Speed: 0.4ms preprocess, 87.2ms inference, 1.0ms postprocess per image at shape (1, 3, 224, 224)\n",
            "Results saved to \u001b[1mruns/detect/predict6\u001b[0m\n",
            "32 labels saved to runs/detect/predict6/labels\n",
            "\n",
            "image 1/1 /content/drive/MyDrive/yolov8/data/test/images/39c193bcc0c00f9e_jpg.rf.a03895504472dfb2284d717e7adac306.jpg: 224x224 1 0, 3 1s, 91.9ms\n",
            "Speed: 0.4ms preprocess, 91.9ms inference, 1.0ms postprocess per image at shape (1, 3, 224, 224)\n",
            "Results saved to \u001b[1mruns/detect/predict6\u001b[0m\n",
            "33 labels saved to runs/detect/predict6/labels\n",
            "\n",
            "image 1/1 /content/drive/MyDrive/yolov8/data/test/images/8cdcb833ef1ef049_jpg.rf.66e6cf61a9f1207cbe4a4fc31eb3d106.jpg: 224x224 1 0, 2 1s, 101.7ms\n",
            "Speed: 0.4ms preprocess, 101.7ms inference, 1.0ms postprocess per image at shape (1, 3, 224, 224)\n",
            "Results saved to \u001b[1mruns/detect/predict6\u001b[0m\n",
            "34 labels saved to runs/detect/predict6/labels\n",
            "\n",
            "image 1/1 /content/drive/MyDrive/yolov8/data/test/images/8ceed1ec9bc3ac45_jpg.rf.8fc5bf482e26b06cfe6264f38d6e56d9.jpg: 224x224 2 0s, 2 1s, 103.3ms\n",
            "Speed: 1.4ms preprocess, 103.3ms inference, 1.1ms postprocess per image at shape (1, 3, 224, 224)\n",
            "Results saved to \u001b[1mruns/detect/predict6\u001b[0m\n",
            "35 labels saved to runs/detect/predict6/labels\n",
            "\n",
            "image 1/1 /content/drive/MyDrive/yolov8/data/test/images/5290f4027491d09b_jpg.rf.67529c737f0a0fec61d9b6078317f26f.jpg: 224x224 1 0, 1 1, 89.8ms\n",
            "Speed: 0.3ms preprocess, 89.8ms inference, 0.9ms postprocess per image at shape (1, 3, 224, 224)\n",
            "Results saved to \u001b[1mruns/detect/predict6\u001b[0m\n",
            "36 labels saved to runs/detect/predict6/labels\n",
            "\n",
            "image 1/1 /content/drive/MyDrive/yolov8/data/test/images/288a95c01e43cd14_jpg.rf.41af373c84142b70b80866347eab839a.jpg: 224x224 1 0, 1 1, 91.9ms\n",
            "Speed: 0.3ms preprocess, 91.9ms inference, 1.0ms postprocess per image at shape (1, 3, 224, 224)\n",
            "Results saved to \u001b[1mruns/detect/predict6\u001b[0m\n",
            "37 labels saved to runs/detect/predict6/labels\n",
            "\n",
            "image 1/1 /content/drive/MyDrive/yolov8/data/test/images/17585ef2efb5ef9b_jpg.rf.59c73d45b86fe4eab8c94c8ca23cf025.jpg: 224x224 1 0, 3 1s, 149.6ms\n",
            "Speed: 0.7ms preprocess, 149.6ms inference, 1.4ms postprocess per image at shape (1, 3, 224, 224)\n",
            "Results saved to \u001b[1mruns/detect/predict6\u001b[0m\n",
            "38 labels saved to runs/detect/predict6/labels\n",
            "\n",
            "image 1/1 /content/drive/MyDrive/yolov8/data/test/images/2753536137929411_jpg.rf.09ed389648e3313d20f4a97c8883ed42.jpg: 224x224 1 0, 2 1s, 148.7ms\n",
            "Speed: 0.4ms preprocess, 148.7ms inference, 1.5ms postprocess per image at shape (1, 3, 224, 224)\n",
            "Results saved to \u001b[1mruns/detect/predict6\u001b[0m\n",
            "39 labels saved to runs/detect/predict6/labels\n",
            "\n",
            "image 1/1 /content/drive/MyDrive/yolov8/data/test/images/Cars115_png_jpg.rf.c25a7bdb92aadbc63a174eb23b9b2255.jpg: 192x224 1 0, 1 1, 129.0ms\n",
            "Speed: 0.4ms preprocess, 129.0ms inference, 1.3ms postprocess per image at shape (1, 3, 224, 224)\n",
            "Results saved to \u001b[1mruns/detect/predict6\u001b[0m\n",
            "40 labels saved to runs/detect/predict6/labels\n",
            "\n",
            "image 1/1 /content/drive/MyDrive/yolov8/data/test/images/4793138df3c05610_jpg.rf.289b1e0b17e1ef4e550a457dd0500d9e.jpg: 224x224 1 0, 1 1, 149.3ms\n",
            "Speed: 0.4ms preprocess, 149.3ms inference, 1.2ms postprocess per image at shape (1, 3, 224, 224)\n",
            "Results saved to \u001b[1mruns/detect/predict6\u001b[0m\n",
            "41 labels saved to runs/detect/predict6/labels\n",
            "\n",
            "image 1/1 /content/drive/MyDrive/yolov8/data/test/images/Cars232_png_jpg.rf.ca62184f87f670f46da7ab5a3ac7075f.jpg: 192x224 1 0, 1 1, 127.2ms\n",
            "Speed: 0.4ms preprocess, 127.2ms inference, 1.2ms postprocess per image at shape (1, 3, 224, 224)\n",
            "Results saved to \u001b[1mruns/detect/predict6\u001b[0m\n",
            "42 labels saved to runs/detect/predict6/labels\n",
            "\n",
            "image 1/1 /content/drive/MyDrive/yolov8/data/test/images/0ee91c4938b6e7ee_jpg.rf.5b607dba853133a9d3f00b5bbe746e87.jpg: 224x224 1 0, 2 1s, 143.9ms\n",
            "Speed: 0.4ms preprocess, 143.9ms inference, 1.2ms postprocess per image at shape (1, 3, 224, 224)\n",
            "Results saved to \u001b[1mruns/detect/predict6\u001b[0m\n",
            "43 labels saved to runs/detect/predict6/labels\n",
            "\n",
            "image 1/1 /content/drive/MyDrive/yolov8/data/test/images/b91c3aaba25bf914_jpg.rf.a9b1b821b6b0f25d1316b05f5479b8e3.jpg: 224x224 1 0, 1 1, 146.1ms\n",
            "Speed: 0.3ms preprocess, 146.1ms inference, 1.3ms postprocess per image at shape (1, 3, 224, 224)\n",
            "Results saved to \u001b[1mruns/detect/predict6\u001b[0m\n",
            "44 labels saved to runs/detect/predict6/labels\n",
            "\n",
            "image 1/1 /content/drive/MyDrive/yolov8/data/test/images/be9fd0014b5a4f2a_jpg.rf.ff882eadef861d436027159a13e0c0ec.jpg: 224x224 1 0, 1 1, 136.4ms\n",
            "Speed: 0.3ms preprocess, 136.4ms inference, 1.2ms postprocess per image at shape (1, 3, 224, 224)\n",
            "Results saved to \u001b[1mruns/detect/predict6\u001b[0m\n",
            "45 labels saved to runs/detect/predict6/labels\n",
            "\n",
            "image 1/1 /content/drive/MyDrive/yolov8/data/test/images/b01d46f9911d558b_jpg.rf.4755280925fa62dbcbdf6b6ed4b80eff.jpg: 224x224 4 0s, 1 1, 87.2ms\n",
            "Speed: 0.3ms preprocess, 87.2ms inference, 1.0ms postprocess per image at shape (1, 3, 224, 224)\n",
            "Results saved to \u001b[1mruns/detect/predict6\u001b[0m\n",
            "46 labels saved to runs/detect/predict6/labels\n",
            "\n",
            "image 1/1 /content/drive/MyDrive/yolov8/data/test/images/d7b71c9fd144d58d_jpg.rf.3072d07aadbeb69a726d49845b94c588.jpg: 224x224 1 0, 2 1s, 86.9ms\n",
            "Speed: 0.3ms preprocess, 86.9ms inference, 0.8ms postprocess per image at shape (1, 3, 224, 224)\n",
            "Results saved to \u001b[1mruns/detect/predict6\u001b[0m\n",
            "47 labels saved to runs/detect/predict6/labels\n",
            "\n",
            "image 1/1 /content/drive/MyDrive/yolov8/data/test/images/d2fe2b47668e9d8e_jpg.rf.2600318318c51c9653fc23f232f0597d.jpg: 224x224 1 0, 1 1, 102.1ms\n",
            "Speed: 0.7ms preprocess, 102.1ms inference, 1.0ms postprocess per image at shape (1, 3, 224, 224)\n",
            "Results saved to \u001b[1mruns/detect/predict6\u001b[0m\n",
            "48 labels saved to runs/detect/predict6/labels\n",
            "\n",
            "image 1/1 /content/drive/MyDrive/yolov8/data/test/images/feaf383fc5de383f_jpg.rf.192270f23baaa18dd26f2b9ba09901cb.jpg: 224x224 2 0s, 2 1s, 87.6ms\n",
            "Speed: 0.4ms preprocess, 87.6ms inference, 1.0ms postprocess per image at shape (1, 3, 224, 224)\n",
            "Results saved to \u001b[1mruns/detect/predict6\u001b[0m\n",
            "49 labels saved to runs/detect/predict6/labels\n",
            "\n",
            "image 1/1 /content/drive/MyDrive/yolov8/data/test/images/daac3a6c64a79bea_jpg.rf.b4a67ba6a47775b9093eb73978023ff5.jpg: 224x224 2 0s, 3 1s, 98.7ms\n",
            "Speed: 0.4ms preprocess, 98.7ms inference, 1.6ms postprocess per image at shape (1, 3, 224, 224)\n",
            "Results saved to \u001b[1mruns/detect/predict6\u001b[0m\n",
            "50 labels saved to runs/detect/predict6/labels\n",
            "\n",
            "image 1/1 /content/drive/MyDrive/yolov8/data/test/images/f5c2a80a21ddb78c_jpg.rf.b757fa71e0ef46839dd607ec27cb59e0.jpg: 224x224 1 0, 1 1, 85.8ms\n",
            "Speed: 0.5ms preprocess, 85.8ms inference, 1.0ms postprocess per image at shape (1, 3, 224, 224)\n",
            "Results saved to \u001b[1mruns/detect/predict6\u001b[0m\n",
            "51 labels saved to runs/detect/predict6/labels\n",
            "\n",
            "image 1/1 /content/drive/MyDrive/yolov8/data/test/images/ee047c8ca2cca8a2_jpg.rf.1eb1c0851e9429bca45554ed2287975f.jpg: 224x224 1 0, 2 1s, 82.7ms\n",
            "Speed: 0.3ms preprocess, 82.7ms inference, 0.9ms postprocess per image at shape (1, 3, 224, 224)\n",
            "Results saved to \u001b[1mruns/detect/predict6\u001b[0m\n",
            "52 labels saved to runs/detect/predict6/labels\n"
          ]
        }
      ]
    }
  ]
}